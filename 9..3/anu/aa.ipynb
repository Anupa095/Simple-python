{
 "cells": [
  {
   "cell_type": "code",
   "execution_count": null,
   "id": "71d7ed4a",
   "metadata": {},
   "outputs": [],
   "source": []
  },
  {
   "cell_type": "markdown",
   "id": "681802a6",
   "metadata": {},
   "source": [
    "# Load Iris dataset\n",
    "iris = load_iris()\n",
    "X = iris.data    # features\n",
    "y = iris.target  # labels\n",
    "\n",
    "# Split data into training and testing sets (80% train, 20% test)\n",
    "X_train, X_test, y_train, y_test = train_test_split(X, y, test_size=0.2, random_state=42)\n",
    "\n",
    "# Train Decision Tree Classifier\n",
    "model = DecisionTreeClassifier(random_state=42)\n",
    "model.fit(X_train, y_train)\n",
    "\n",
    "# Predict on test data\n",
    "y_pred = model.predict(X_test)\n",
    "\n",
    "# Check accuracy\n",
    "print(\"Accuracy:\", accuracy_score(y_test, y_pred))\n",
    "\n",
    "# Display textual representation of the tree\n",
    "tree_rules = export_text(model, feature_names=iris.feature_names)\n",
    "print(\"\\nDecision Tree Rules:\\n\")\n",
    "print(tree_rules)\n",
    "\n",
    "# Visualize the decision tree graphically\n",
    "plt.figure(figsize=(12,8))\n",
    "plot_tree(model, feature_names=iris.feature_names, class_names=iris.target_names, filled=True, rounded=True)\n",
    "plt.title(\"Decision Tree on Iris Dataset\")\n",
    "plt.show()\n",
    "\n",
    "# Predict a new flower\n",
    "new_flower = [[5.1, 3.5, 1.4, 0.2]]  # Example measurements\n",
    "prediction = model.predict(new_flower)\n",
    "print(\"Predicted flower type for new data:\", iris.target_names[prediction][0])"
   ]
  },
  {
   "cell_type": "code",
   "execution_count": null,
   "id": "7df5a8e0",
   "metadata": {},
   "outputs": [],
   "source": []
  },
  {
   "cell_type": "code",
   "execution_count": null,
   "id": "cf1ecc1d",
   "metadata": {},
   "outputs": [],
   "source": []
  },
  {
   "cell_type": "markdown",
   "id": "d0f62789",
   "metadata": {},
   "source": []
  },
  {
   "cell_type": "code",
   "execution_count": null,
   "id": "89b77981",
   "metadata": {},
   "outputs": [],
   "source": []
  },
  {
   "cell_type": "code",
   "execution_count": 7,
   "id": "435395c3",
   "metadata": {},
   "outputs": [],
   "source": [
    "from sklearn.datasets import fetch_openml, load_iris\n",
    "from sklearn.model_selection import train_test_split\n",
    "from sklearn.tree import DecisionTreeClassifier\n",
    "from sklearn.metrics import accuracy_score\n",
    "\n",
    "iris = load_iris()\n",
    "X= iris.data    \n",
    "y= iris.target"
   ]
  },
  {
   "cell_type": "code",
   "execution_count": null,
   "id": "fd3eb772",
   "metadata": {},
   "outputs": [],
   "source": []
  }
 ],
 "metadata": {
  "kernelspec": {
   "display_name": "Python 3",
   "language": "python",
   "name": "python3"
  },
  "language_info": {
   "codemirror_mode": {
    "name": "ipython",
    "version": 3
   },
   "file_extension": ".py",
   "mimetype": "text/x-python",
   "name": "python",
   "nbconvert_exporter": "python",
   "pygments_lexer": "ipython3",
   "version": "3.13.1"
  }
 },
 "nbformat": 4,
 "nbformat_minor": 5
}
